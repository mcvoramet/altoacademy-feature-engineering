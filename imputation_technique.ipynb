{
 "cells": [
  {
   "attachments": {},
   "cell_type": "markdown",
   "metadata": {},
   "source": [
    "# Import necessary libraries"
   ]
  },
  {
   "cell_type": "code",
   "execution_count": 2,
   "metadata": {},
   "outputs": [],
   "source": [
    "import pandas as pd\n",
    "import numpy as np"
   ]
  },
  {
   "attachments": {},
   "cell_type": "markdown",
   "metadata": {},
   "source": [
    "# Sample data creation\n"
   ]
  },
  {
   "cell_type": "code",
   "execution_count": 3,
   "metadata": {},
   "outputs": [
    {
     "name": "stdout",
     "output_type": "stream",
     "text": [
      "Original Data:\n",
      "     A    B    C  D\n",
      "0  1.0  NaN    a  1\n",
      "1  2.0  2.0    b  2\n",
      "2  NaN  3.0    c  3\n",
      "3  4.0  4.0  NaN  4\n",
      "4  5.0  5.0    e  5\n"
     ]
    }
   ],
   "source": [
    "np.random.seed(0)  # Setting seed for reproducibility\n",
    "data = {\n",
    "    'A': [1, 2, np.nan, 4, 5],\n",
    "    'B': [np.nan, 2, 3, 4, 5],\n",
    "    'C': ['a', 'b', 'c', np.nan, 'e'],\n",
    "    'D': [1, 2, 3, 4, 5]\n",
    "}\n",
    "df = pd.DataFrame(data)\n",
    "print(\"Original Data:\")\n",
    "print(df)\n"
   ]
  },
  {
   "attachments": {},
   "cell_type": "markdown",
   "metadata": {},
   "source": [
    "# Numerical Variables\n"
   ]
  },
  {
   "attachments": {},
   "cell_type": "markdown",
   "metadata": {},
   "source": [
    "## 1. Mean/Median Imputation\n"
   ]
  },
  {
   "cell_type": "code",
   "execution_count": 4,
   "metadata": {},
   "outputs": [
    {
     "name": "stdout",
     "output_type": "stream",
     "text": [
      "\n",
      "Mean Imputed Data:\n",
      "     A    B    C  D\n",
      "0  1.0  NaN    a  1\n",
      "1  2.0  2.0    b  2\n",
      "2  3.0  3.0    c  3\n",
      "3  4.0  4.0  NaN  4\n",
      "4  5.0  5.0    e  5\n"
     ]
    }
   ],
   "source": [
    "mean_imputed_df = df.copy()\n",
    "mean_imputed_df['A'].fillna(mean_imputed_df['A'].mean(), inplace=True)\n",
    "print(\"\\nMean Imputed Data:\")\n",
    "print(mean_imputed_df)"
   ]
  },
  {
   "attachments": {},
   "cell_type": "markdown",
   "metadata": {},
   "source": [
    "## 2. Arbitrary Value Imputation\n"
   ]
  },
  {
   "cell_type": "code",
   "execution_count": 5,
   "metadata": {},
   "outputs": [
    {
     "name": "stdout",
     "output_type": "stream",
     "text": [
      "\n",
      "Arbitrary Value Imputed Data:\n",
      "        A    B    C  D\n",
      "0     1.0  NaN    a  1\n",
      "1     2.0  2.0    b  2\n",
      "2  9999.0  3.0    c  3\n",
      "3     4.0  4.0  NaN  4\n",
      "4     5.0  5.0    e  5\n"
     ]
    }
   ],
   "source": [
    "arbitrary_imputed_df = df.copy()\n",
    "arbitrary_imputed_df['A'].fillna(9999, inplace=True)  # Choosing an arbitrary value of 9999\n",
    "print(\"\\nArbitrary Value Imputed Data:\")\n",
    "print(arbitrary_imputed_df)"
   ]
  },
  {
   "attachments": {},
   "cell_type": "markdown",
   "metadata": {},
   "source": [
    "## 3. End of tail Imputation"
   ]
  },
  {
   "cell_type": "code",
   "execution_count": 6,
   "metadata": {},
   "outputs": [
    {
     "name": "stdout",
     "output_type": "stream",
     "text": [
      "\n",
      "End of Tail Imputed Data:\n",
      "          A    B    C  D\n",
      "0  1.000000  NaN    a  1\n",
      "1  2.000000  2.0    b  2\n",
      "2  8.477226  3.0    c  3\n",
      "3  4.000000  4.0  NaN  4\n",
      "4  5.000000  5.0    e  5\n"
     ]
    }
   ],
   "source": [
    "end_of_tail_imputed_df = df.copy()\n",
    "end_of_tail_value = end_of_tail_imputed_df['A'].mean() + 3 * end_of_tail_imputed_df['A'].std()\n",
    "end_of_tail_imputed_df['A'].fillna(end_of_tail_value, inplace=True)\n",
    "print(\"\\nEnd of Tail Imputed Data:\")\n",
    "print(end_of_tail_imputed_df)"
   ]
  },
  {
   "attachments": {},
   "cell_type": "markdown",
   "metadata": {},
   "source": [
    "## 4. Mode Imputation"
   ]
  },
  {
   "cell_type": "code",
   "execution_count": 7,
   "metadata": {},
   "outputs": [
    {
     "name": "stdout",
     "output_type": "stream",
     "text": [
      "\n",
      "Mode Imputed Data:\n",
      "     A    B    C  D\n",
      "0  1.0  2.0    a  1\n",
      "1  2.0  2.0    b  2\n",
      "2  NaN  3.0    c  3\n",
      "3  4.0  4.0  NaN  4\n",
      "4  5.0  5.0    e  5\n"
     ]
    }
   ],
   "source": [
    "mode_imputed_df = df.copy()\n",
    "mode_imputed_df['B'].fillna(mode_imputed_df['B'].mode()[0], inplace=True)\n",
    "print(\"\\nMode Imputed Data:\")\n",
    "print(mode_imputed_df)"
   ]
  },
  {
   "attachments": {},
   "cell_type": "markdown",
   "metadata": {},
   "source": [
    "# Categorical Variables"
   ]
  },
  {
   "attachments": {},
   "cell_type": "markdown",
   "metadata": {},
   "source": [
    "## 1. Frequent category Imputation\n"
   ]
  },
  {
   "cell_type": "code",
   "execution_count": 8,
   "metadata": {},
   "outputs": [
    {
     "name": "stdout",
     "output_type": "stream",
     "text": [
      "\n",
      "Frequent Category Imputed Data:\n",
      "     A    B  C  D\n",
      "0  1.0  NaN  a  1\n",
      "1  2.0  2.0  b  2\n",
      "2  NaN  3.0  c  3\n",
      "3  4.0  4.0  a  4\n",
      "4  5.0  5.0  e  5\n"
     ]
    }
   ],
   "source": [
    "frequent_category_imputed_df = df.copy()\n",
    "frequent_category_imputed_df['C'].fillna(frequent_category_imputed_df['C'].mode()[0], inplace=True)\n",
    "print(\"\\nFrequent Category Imputed Data:\")\n",
    "print(frequent_category_imputed_df)"
   ]
  },
  {
   "attachments": {},
   "cell_type": "markdown",
   "metadata": {},
   "source": [
    "## 2. Adding a “Missing” category"
   ]
  },
  {
   "cell_type": "code",
   "execution_count": 9,
   "metadata": {},
   "outputs": [
    {
     "name": "stdout",
     "output_type": "stream",
     "text": [
      "\n",
      "Added 'Missing' Category Data:\n",
      "     A    B        C  D\n",
      "0  1.0  NaN        a  1\n",
      "1  2.0  2.0        b  2\n",
      "2  NaN  3.0        c  3\n",
      "3  4.0  4.0  Missing  4\n",
      "4  5.0  5.0        e  5\n"
     ]
    }
   ],
   "source": [
    "missing_category_df = df.copy()\n",
    "missing_category_df['C'].fillna(\"Missing\", inplace=True)\n",
    "print(\"\\nAdded 'Missing' Category Data:\")\n",
    "print(missing_category_df)"
   ]
  },
  {
   "attachments": {},
   "cell_type": "markdown",
   "metadata": {},
   "source": [
    "# Both"
   ]
  },
  {
   "attachments": {},
   "cell_type": "markdown",
   "metadata": {},
   "source": [
    "## 1. Frequent category Imputation"
   ]
  },
  {
   "cell_type": "code",
   "execution_count": 10,
   "metadata": {},
   "outputs": [
    {
     "name": "stdout",
     "output_type": "stream",
     "text": [
      "\n",
      "Frequent Category Imputed Data:\n",
      "     A    B  C  D\n",
      "0  1.0  NaN  a  1\n",
      "1  2.0  2.0  b  2\n",
      "2  NaN  3.0  c  3\n",
      "3  4.0  4.0  a  4\n",
      "4  5.0  5.0  e  5\n"
     ]
    }
   ],
   "source": [
    "frequent_category_imputed_df = df.copy()\n",
    "frequent_category_imputed_df['C'].fillna(frequent_category_imputed_df['C'].mode()[0], inplace=True)\n",
    "print(\"\\nFrequent Category Imputed Data:\")\n",
    "print(frequent_category_imputed_df)"
   ]
  },
  {
   "attachments": {},
   "cell_type": "markdown",
   "metadata": {},
   "source": [
    "## 2. Adding a “Missing” Indicator"
   ]
  },
  {
   "cell_type": "code",
   "execution_count": 11,
   "metadata": {},
   "outputs": [
    {
     "name": "stdout",
     "output_type": "stream",
     "text": [
      "\n",
      "Added Missing Indicator Data:\n",
      "     A    B    C  D  A_missing  B_missing  C_missing\n",
      "0  1.0  NaN    a  1          0          1          0\n",
      "1  2.0  2.0    b  2          0          0          0\n",
      "2  NaN  3.0    c  3          1          0          0\n",
      "3  4.0  4.0  NaN  4          0          0          1\n",
      "4  5.0  5.0    e  5          0          0          0\n"
     ]
    }
   ],
   "source": [
    "missing_indicator_df = df.copy()\n",
    "missing_indicator_df['A_missing'] = missing_indicator_df['A'].isnull().astype(int)\n",
    "missing_indicator_df['B_missing'] = missing_indicator_df['B'].isnull().astype(int)\n",
    "missing_indicator_df['C_missing'] = missing_indicator_df['C'].isnull().astype(int)\n",
    "print(\"\\nAdded Missing Indicator Data:\")\n",
    "print(missing_indicator_df)"
   ]
  },
  {
   "attachments": {},
   "cell_type": "markdown",
   "metadata": {},
   "source": [
    "## 3. Random Sample Imputation"
   ]
  },
  {
   "cell_type": "code",
   "execution_count": 12,
   "metadata": {},
   "outputs": [
    {
     "name": "stdout",
     "output_type": "stream",
     "text": [
      "\n",
      "Random Sample Imputed Data:\n",
      "     A    B    C  D\n",
      "0  1.0  NaN    a  1\n",
      "1  2.0  2.0    b  2\n",
      "2  1.0  3.0    c  3\n",
      "3  4.0  4.0  NaN  4\n",
      "4  5.0  5.0    e  5\n"
     ]
    }
   ],
   "source": [
    "random_sample_df = df.copy()\n",
    "random_sample_df['A'].fillna(np.random.choice(random_sample_df['A'].dropna()), inplace=True)\n",
    "print(\"\\nRandom Sample Imputed Data:\")\n",
    "print(random_sample_df)"
   ]
  },
  {
   "cell_type": "code",
   "execution_count": null,
   "metadata": {},
   "outputs": [],
   "source": []
  }
 ],
 "metadata": {
  "kernelspec": {
   "display_name": "base",
   "language": "python",
   "name": "python3"
  },
  "language_info": {
   "codemirror_mode": {
    "name": "ipython",
    "version": 3
   },
   "file_extension": ".py",
   "mimetype": "text/x-python",
   "name": "python",
   "nbconvert_exporter": "python",
   "pygments_lexer": "ipython3",
   "version": "3.11.4"
  },
  "orig_nbformat": 4
 },
 "nbformat": 4,
 "nbformat_minor": 2
}
